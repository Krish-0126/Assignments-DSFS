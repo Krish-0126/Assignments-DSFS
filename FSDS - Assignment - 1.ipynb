{
 "cells": [
  {
   "attachments": {},
   "cell_type": "markdown",
   "id": "56119587-d5fc-443d-83c0-4386a6c69a42",
   "metadata": {},
   "source": [
    "***Q1. In the below elements which of them are values or an expression? eg:- values can be\n",
    "integer or string and expressions will be mathematical operators.***\n",
    "Ans. \n",
    "'*' = Expressions\n",
    "'hello' = Values\n",
    "-87.8 = Values\n",
    "'-' = Expressions\n",
    "/ = Expressions\n",
    "'+' = Expressions"
   ]
  },
  {
   "attachments": {},
   "cell_type": "markdown",
   "id": "2b2458ea-522d-4e73-b5f6-d32a595d0161",
   "metadata": {},
   "source": [
    "------------------------------------------------------------------------------------------------------------------------------------------------------------------"
   ]
  },
  {
   "attachments": {},
   "cell_type": "markdown",
   "id": "70eb25b4-9b03-48ef-9a77-c2eec99f759e",
   "metadata": {},
   "source": [
    "***Q2. What is the difference between string and variable?***\n",
    "Ans. -> A string is a specific data type that represents a sequence of characters enclosed within quotes, either single ('') or double (\"\"). It is used to store and manipulate textual data. For example:\n",
    "my_string = \"Hello, world!\"\n",
    "In the code above the string value 'Hello World!' is directly asssigned to 'my_string'.\n",
    "\n",
    "-> A variable is a name that represents a value stored in the computer's memory. It can hold various types of data, including strings, numbers, booleans, and more. Variables are used to store and manipulate values throughout a program. They provide a way to refer to and access data by using a descriptive name.\n",
    "Example: my_variable = \"Hello, world!\"\n",
    "In the code above my_variable is a variable that holds the string 'Hello, world!'.\n",
    "\n",
    "-> The main difference between a string and a variable in Python is that a string is a specific data type representing textual data, while a variable is a name that can refer to values of various types, including strings. A variable can store and manipulate different kinds of data, not just strings, whereas a string is specifically used to store textual information."
   ]
  },
  {
   "attachments": {},
   "cell_type": "markdown",
   "id": "d2b8b695-ef31-43d2-b955-b7e8f41fd99f",
   "metadata": {},
   "source": [
    "------------------------------------------------------------------------------------------------------------------------------------------------------------------"
   ]
  },
  {
   "attachments": {},
   "cell_type": "markdown",
   "id": "ec844b53-0eea-43ac-9577-e1fd889faad5",
   "metadata": {},
   "source": [
    "***Q3. Describe three different data types.***\n",
    "Ans. The three types of data types are\n",
    "-> Integer: An integer data type represents whole numbers without any fractional or decimal parts. It is typically used to store values that can be expressed as whole numbers, such as counting quantities or indexing. They have a fixed range of values based on the number of bits used to represent them. Examples of integer data types include **'int'** in Python.\n",
    "\n",
    "-> String: A string data type is used to represent a sequence of characters. It is commonly used to store textual data, such as names, addresses, or sentences. Strings are usually enclosed in quotation marks (single or double) to differentiate them from other data types. In programming languages, strings are often treated as immutable, meaning they cannot be modified once created. Examples of string data types include **'str'** in Python.\n",
    "\n",
    "-> Boolean: Data type with one of the two built-in values, True or False. Boolean objects that are equal to True are truthy (true), and those equal to False are falsy (false). But non-Boolean objects can be evaluated in a Boolean context as well and determined to be true or false. It is denoted by the class bool."
   ]
  },
  {
   "attachments": {},
   "cell_type": "markdown",
   "id": "518e591b-d844-4aaa-ab4b-1bf17aa7fd1f",
   "metadata": {},
   "source": [
    "------------------------------------------------------------------------------------------------------------------------------------------------------------------"
   ]
  },
  {
   "attachments": {},
   "cell_type": "markdown",
   "id": "4b3e2379-9b9b-416e-9b10-d0ad7d14d5f9",
   "metadata": {},
   "source": [
    "***Q4. What is an expression made up of? What do all expressions do?***\n",
    "Ans. -> An expression is a combination of values, variables, operators, and function calls that evaluates to a single value. It can be as simple as a single variable or value, or it can be complex, involving multiple operations and sub-expressions.\n",
    "An expression can include the following components: Values, Variables, Operators, Function calls.\n",
    "-> The purpose of an expression is to compute a value based on the given inputs and operations. Expressions can be used in various contexts, such as mathematical calculations, logical evaluations, string manipulations, and more."
   ]
  },
  {
   "attachments": {},
   "cell_type": "markdown",
   "id": "dc1670ab-1e4d-4ca7-8608-1a4ebad18b80",
   "metadata": {},
   "source": [
    "------------------------------------------------------------------------------------------------------------------------------------------------------------------"
   ]
  },
  {
   "attachments": {},
   "cell_type": "markdown",
   "id": "977d29f9-d579-4316-bdc9-99f5961eb571",
   "metadata": {},
   "source": [
    "***Q5. What is the difference between an expression and a statement?***\n",
    "Ans. -> Expression: An expression is a combination of variables, constants, operators, and function calls that evaluates to a single value. It represents a computation or a calculation that yields a result. Expressions can be as simple as a single variable or value, or they can be complex with multiple operators and operands.\n",
    "Examples:\n",
    "2 + 3 (evaluates to 5)\n",
    "x * (y + 5) (evaluates to the product of x and the sum of y and 5)\n",
    "\n",
    "-> Statement: A statement is a complete instruction or action that performs a specific operation. It represents a task or an action to be executed by the program. Statements can include expressions as part of their execution, but they also have other effects beyond just producing a value.\n",
    "Examples:\n",
    "x = 5 (assigns the value 5 to the variable x)\n",
    "if condition: ... else: ... (performs different actions based on a condition)"
   ]
  },
  {
   "attachments": {},
   "cell_type": "markdown",
   "id": "61d3a600-9035-48fa-89f8-342b4aab4f89",
   "metadata": {},
   "source": [
    "------------------------------------------------------------------------------------------------------------------------------------------------------------------"
   ]
  },
  {
   "attachments": {},
   "cell_type": "markdown",
   "id": "5ed32fb4-bbc1-47c7-991b-9f9f51c4dab4",
   "metadata": {},
   "source": [
    "***Q6. After running the following code, what does the variable bacon contain?***"
   ]
  },
  {
   "cell_type": "code",
   "execution_count": 2,
   "id": "9895ae6d-6780-4aae-9e71-bb80220b0fbd",
   "metadata": {},
   "outputs": [
    {
     "name": "stdout",
     "output_type": "stream",
     "text": [
      "22\n"
     ]
    }
   ],
   "source": [
    "bacon = 22\n",
    "bacon + 1\n",
    "print(bacon)"
   ]
  },
  {
   "attachments": {},
   "cell_type": "markdown",
   "id": "ca510af1-0d6e-43bc-bbb8-e90207d9b297",
   "metadata": {},
   "source": [
    "As seen in the above code value of bacon remains 22."
   ]
  },
  {
   "attachments": {},
   "cell_type": "markdown",
   "id": "243b9727-b9d8-4934-8883-1e13080eafcb",
   "metadata": {},
   "source": [
    "------------------------------------------------------------------------------------------------------------------------------------------------------------------"
   ]
  },
  {
   "attachments": {},
   "cell_type": "markdown",
   "id": "d3751cf5-1aa6-491c-848c-d8ca53ae53cd",
   "metadata": {},
   "source": [
    "***Q7. What should the values of the following two terms be?***"
   ]
  },
  {
   "cell_type": "code",
   "execution_count": 6,
   "id": "0b277d61-7021-44b5-a76f-b860b1f33eb3",
   "metadata": {},
   "outputs": [
    {
     "data": {
      "text/plain": [
       "'spamspamspam'"
      ]
     },
     "execution_count": 6,
     "metadata": {},
     "output_type": "execute_result"
    }
   ],
   "source": [
    "'spam' + 'spamspam'"
   ]
  },
  {
   "cell_type": "code",
   "execution_count": 7,
   "id": "ef8e5b55-8c87-4379-b93f-1260d8ac927e",
   "metadata": {},
   "outputs": [
    {
     "data": {
      "text/plain": [
       "'spamspamspam'"
      ]
     },
     "execution_count": 7,
     "metadata": {},
     "output_type": "execute_result"
    }
   ],
   "source": [
    "'spam' * 3"
   ]
  },
  {
   "attachments": {},
   "cell_type": "markdown",
   "id": "5c5cf0f4-021d-48cc-97f1-5c0052ef8bcc",
   "metadata": {},
   "source": [
    "As seen in the above code value of both terms will be same, 'spamspamspam'."
   ]
  },
  {
   "attachments": {},
   "cell_type": "markdown",
   "id": "3c12741c",
   "metadata": {},
   "source": [
    "------------------------------------------------------------------------------------------------------------------------------------------------------------------"
   ]
  },
  {
   "attachments": {},
   "cell_type": "markdown",
   "id": "5be092bd-a264-412c-b7db-d71facde09a3",
   "metadata": {},
   "source": [
    "***Q8. Why is eggs a valid variable name while 100 is invalid?***\n",
    "Ans. -> Eggs can be a valid variable name because it only consists of alphanumeric characters. And as for '100' variables cannot start with an integer, thats why '100' as a variable name is invalid."
   ]
  },
  {
   "attachments": {},
   "cell_type": "markdown",
   "id": "eb137a29",
   "metadata": {},
   "source": [
    "------------------------------------------------------------------------------------------------------------------------------------------------------------------"
   ]
  },
  {
   "attachments": {},
   "cell_type": "markdown",
   "id": "30de06d2-0213-460e-ab50-39724520d032",
   "metadata": {},
   "source": [
    "***Q9. What three functions can be used to get the integer, floating-point number, or string version of a value?***\n",
    "Ans. -> int(): This function converts a value into an integer. It can convert a floating-point number or a string containing a numeric value into an integer. If the value cannot be converted into an integer, it will raise a ValueError exception.\n",
    "\n",
    "-> float(): This function converts a value into a floating-point number. It can convert an integer or a string containing a numeric value into a floating-point number. If the value cannot be converted into a float, it will raise a ValueError exception.\n",
    "\n",
    "-> str(): This function converts a value into a string. It can convert an integer, floating-point number, or any other value into a string representation."
   ]
  },
  {
   "attachments": {},
   "cell_type": "markdown",
   "id": "bc577004",
   "metadata": {},
   "source": [
    "------------------------------------------------------------------------------------------------------------------------------------------------------------------"
   ]
  },
  {
   "attachments": {},
   "cell_type": "markdown",
   "id": "a5d7a6b2-f72e-4aba-bb94-b0a60afd421c",
   "metadata": {},
   "source": [
    "***Q10. Why does this expression cause an error? How can you fix it? 'I have eaten' + 99 + 'burritos.'***"
   ]
  },
  {
   "cell_type": "code",
   "execution_count": 8,
   "id": "e398f893-fd77-4864-a11a-f5537b7fca26",
   "metadata": {},
   "outputs": [
    {
     "ename": "TypeError",
     "evalue": "can only concatenate str (not \"int\") to str",
     "output_type": "error",
     "traceback": [
      "\u001b[0;31m---------------------------------------------------------------------------\u001b[0m",
      "\u001b[0;31mTypeError\u001b[0m                                 Traceback (most recent call last)",
      "Cell \u001b[0;32mIn [8], line 1\u001b[0m\n\u001b[0;32m----> 1\u001b[0m \u001b[38;5;124;43m'\u001b[39;49m\u001b[38;5;124;43mI have eaten\u001b[39;49m\u001b[38;5;124;43m'\u001b[39;49m\u001b[43m \u001b[49m\u001b[38;5;241;43m+\u001b[39;49m\u001b[43m \u001b[49m\u001b[38;5;241;43m99\u001b[39;49m \u001b[38;5;241m+\u001b[39m \u001b[38;5;124m'\u001b[39m\u001b[38;5;124mburritos.\u001b[39m\u001b[38;5;124m'\u001b[39m\n",
      "\u001b[0;31mTypeError\u001b[0m: can only concatenate str (not \"int\") to str"
     ]
    }
   ],
   "source": [
    "'I have eaten' + 99 + 'burritos.'"
   ]
  },
  {
   "attachments": {},
   "cell_type": "markdown",
   "id": "ff3b4156-9495-42b1-8228-e813c607a4c3",
   "metadata": {},
   "source": [
    "Ans. -> This expression causes an error because python cannot concatenate string to string not string to integer or integer to string.\n",
    "-> To fix this error we have to convert the integer 99 into string or using f-strings. The correction is given in the code below."
   ]
  },
  {
   "cell_type": "code",
   "execution_count": 18,
   "id": "29d298f0-a51d-452c-bcf1-b63d927068c4",
   "metadata": {},
   "outputs": [
    {
     "data": {
      "text/plain": [
       "'I have eaten 99 burritos.'"
      ]
     },
     "execution_count": 18,
     "metadata": {},
     "output_type": "execute_result"
    }
   ],
   "source": [
    "f'I have eaten {99} burritos.'"
   ]
  },
  {
   "attachments": {},
   "cell_type": "markdown",
   "id": "f0a0ca96",
   "metadata": {},
   "source": [
    "------------------------------------------------------------------------------------------------------------------------------------------------------------------"
   ]
  }
 ],
 "metadata": {
  "kernelspec": {
   "display_name": "Python 3 (ipykernel)",
   "language": "python",
   "name": "python3"
  },
  "language_info": {
   "codemirror_mode": {
    "name": "ipython",
    "version": 3
   },
   "file_extension": ".py",
   "mimetype": "text/x-python",
   "name": "python",
   "nbconvert_exporter": "python",
   "pygments_lexer": "ipython3",
   "version": "3.10.6"
  }
 },
 "nbformat": 4,
 "nbformat_minor": 5
}
