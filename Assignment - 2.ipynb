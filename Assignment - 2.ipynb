{
 "cells": [
  {
   "cell_type": "markdown",
   "id": "e43aef14-113a-47e9-bf9d-aab9187e62ca",
   "metadata": {},
   "source": [
    "***Q1. What are the two values of the Boolean data type? How do you write them?***\n",
    "Ans. -> In Python, the two values of the Boolean data type are True and False. The first letter of each value is capitalized.\n",
    "\n",
    "Example:"
   ]
  },
  {
   "cell_type": "code",
   "execution_count": null,
   "id": "414b2384-b6ac-4deb-a8ed-337751a3affd",
   "metadata": {},
   "outputs": [],
   "source": [
    "x = True\n",
    "y = False"
   ]
  },
  {
   "cell_type": "markdown",
   "id": "219d9356-f0c3-47ea-a99d-75bd7eacb58e",
   "metadata": {},
   "source": [
    "In this example, the variable x is assigned the value True, representing logical truth, and the variable y is assigned the value False, representing logical falsehood.\n",
    "Python also provides built-in functions, such as bool(), that can be used to convert other data types or expressions into Boolean values. For instance:"
   ]
  },
  {
   "cell_type": "code",
   "execution_count": null,
   "id": "2521d5cb-4ed9-487e-aa0a-c8a5048b1225",
   "metadata": {},
   "outputs": [],
   "source": [
    "a = bool(0)   # a will be False\n",
    "b = bool(10)  # b will be True\n",
    "c = bool(\"\")  # c will be False\n",
    "d = bool(\"hi\")  # d will be True"
   ]
  },
  {
   "cell_type": "markdown",
   "id": "b1921e04-859f-4d02-8a29-e9d81a4dc23b",
   "metadata": {},
   "source": [
    "***Q2. What are the three different types of Boolean operators?***\n",
    "Ans. -> The three basic boolean operators are: AND, OR, and NOT."
   ]
  },
  {
   "cell_type": "markdown",
   "id": "1a59c09c-baf2-4b43-a97e-804f6c6e327d",
   "metadata": {},
   "source": [
    "***Q3. Make a list of each Boolean operator's truth tables (i.e. every possible combination of Boolean\n",
    "values for the operator and what it evaluate ).***\n",
    "Ans. -> Below are all the possible combination of boolean values for the operator and what it evaluate :-\n",
    "True and True is True.\n",
    "True and False is False.\n",
    "False and True is False.\n",
    "False and False is False.\n",
    "True or True is True.\n",
    "True or False is True.\n",
    "False or True is True.\n",
    "False or False is False.\n",
    "not True is False.\n",
    "not False is True.\n",
    "\n",
    "-> Below is the list of truth table for each boolean operator :-\n",
    "Truth Table for AND.\n",
    "|A |B |output|\n",
    "|0 |0 |0 |\n",
    "|0 |1 |0 |\n",
    "|1 |0 |0 |\n",
    "|1 |1 |1 |\n",
    "Truth Table for OR.\n",
    "|A |B |output|\n",
    "|0 |0 |0 |\n",
    "|0 |1 |1 |\n",
    "|1 |0 |1 |\n",
    "|1 |1 |1 |\n",
    "Truth Table for NOT.\n",
    "|A |output|\n",
    "|0 |1 |\n",
    "|1 |0 |"
   ]
  },
  {
   "cell_type": "markdown",
   "id": "1266fef4-a61f-41a6-ab93-b1885451a2ce",
   "metadata": {},
   "source": [
    "***Q4. What are the values of the following expressions?***\n",
    "Ans. "
   ]
  },
  {
   "cell_type": "code",
   "execution_count": 1,
   "id": "9426823d-07e3-454a-821f-359e5cd40328",
   "metadata": {},
   "outputs": [
    {
     "name": "stdout",
     "output_type": "stream",
     "text": [
      "False\n",
      "False\n",
      "True\n",
      "False\n",
      "False\n",
      "True\n"
     ]
    }
   ],
   "source": [
    "print((5 > 4) and (3 == 5))\n",
    "print(not (5 > 4))\n",
    "print((5 > 4) or (3 == 5))\n",
    "print(not ((5 > 4) or (3 == 5)))\n",
    "print((True and True) and (True == False))\n",
    "print((not False) or (not True))"
   ]
  },
  {
   "cell_type": "markdown",
   "id": "ebc370c1-8dec-4f4b-beaf-246f1de1167c",
   "metadata": {},
   "source": [
    "***Q5. What are the six comparison operators?***\n",
    "Ans. The six comparison operators are\n",
    "== (Equals to), != (Not Equals to), < (Less than), > (Greater than), <= (less than or equal to), and >= (Greater than or Equal to)."
   ]
  },
  {
   "cell_type": "markdown",
   "id": "47aca73c-72b8-4323-9b64-638504721ffd",
   "metadata": {},
   "source": [
    "***Q6. How do you tell the difference between the equal to and assignment operators? Describe a\n",
    "condition and when you would use one.***\n",
    "Ans. -> == is the equal to operator that compares two values and evaluates to a Boolean, while = is the assignment operator that stores a value in a variable. A condition is an expression used in a flow control statement that evaluates to a Boolean value."
   ]
  },
  {
   "cell_type": "markdown",
   "id": "c9a585a5-6bb6-49e5-9085-a2b2587941e9",
   "metadata": {},
   "source": [
    "***Q7. Identify the three blocks in this code:***\n",
    "Ans. -> The three blocks are everything inside the if statement and the lines print('bacon') and print('ham')."
   ]
  },
  {
   "cell_type": "code",
   "execution_count": null,
   "id": "ce119b0c-fc6c-4902-a37a-04215d86ec79",
   "metadata": {},
   "outputs": [],
   "source": [
    "print('eggs')\n",
    "if spam > 5:\n",
    "    print('bacon')\n",
    "else:\n",
    "    print('ham')\n",
    "print('spam')"
   ]
  },
  {
   "cell_type": "markdown",
   "id": "67a1cb6b-029d-4f97-b8ca-08187e046810",
   "metadata": {},
   "source": [
    "***Q8. Write code that prints Hello if 1 is stored in spam, prints Howdy if 2 is stored in spam, and prints\n",
    "Greetings! if anything else is stored in spam.***"
   ]
  },
  {
   "cell_type": "code",
   "execution_count": 4,
   "id": "da565061-3517-4de1-ae7f-f4e91b59a567",
   "metadata": {},
   "outputs": [
    {
     "name": "stdin",
     "output_type": "stream",
     "text": [
      "Enter the value for spam:  2\n"
     ]
    },
    {
     "name": "stdout",
     "output_type": "stream",
     "text": [
      "Howdy\n"
     ]
    }
   ],
   "source": [
    "#Ans.\n",
    "spam = int(input(\"Enter the value for spam: \"))\n",
    "\n",
    "if spam == 1:\n",
    "    print(\"Hello\")\n",
    "elif spam == 2:\n",
    "    print(\"Howdy\")\n",
    "else:\n",
    "    print(\"Greetings!\")"
   ]
  },
  {
   "cell_type": "markdown",
   "id": "08b5d7dd-f390-416a-9e2a-862469e196ac",
   "metadata": {},
   "source": [
    "***Q9. If your programme is stuck in an endless loop, what keys you’ll press?***\n",
    "Ans. -> If the program is stuck in an endless loop and you need to interrupt its execution, you can typically use Ctrl + C keys together in the terminal or command prompt where the program is running."
   ]
  },
  {
   "cell_type": "markdown",
   "id": "c15d46ff-7907-4be3-810d-0b744f9f30cd",
   "metadata": {},
   "source": [
    "***Q10. How can you tell the difference between break and continue?***\n",
    "Ans. -> Break:A break statement in Python alters the flow of a loop by terminating it once a specified condition is met. Continue: The continue statement in Python is used to skip the remaining code inside a loop for the current iteration only."
   ]
  },
  {
   "cell_type": "markdown",
   "id": "8152439b-3d5d-4a58-88de-9d0dc216f0f1",
   "metadata": {},
   "source": [
    "***Q11. In a for loop, what is the difference between range(10), range(0, 10), and range(0, 10, 1)?***\n",
    "Ans. -> They all do the same thing. The range(10) call ranges from 0 up to (but not including) 10, range(0, 10) explicitly tells the loop to start at 0, and range(0, 10, 1) explicitly tells the loop to increase the variable by 1 on each iteration."
   ]
  },
  {
   "cell_type": "markdown",
   "id": "1a8e2714-76eb-4957-a8a1-ec4f07eaf05e",
   "metadata": {},
   "source": [
    "***Q12. Write a short program that prints the numbers 1 to 10 using a for loop. Then write an equivalent\n",
    "program that prints the numbers 1 to 10 using a while loop.***\n",
    "Ans. -> "
   ]
  },
  {
   "cell_type": "code",
   "execution_count": 6,
   "id": "4823c349-f781-4fa6-80a8-fe0b93942ee6",
   "metadata": {},
   "outputs": [
    {
     "name": "stdout",
     "output_type": "stream",
     "text": [
      "1\n",
      "2\n",
      "3\n",
      "4\n",
      "5\n",
      "6\n",
      "7\n",
      "8\n",
      "9\n",
      "10\n"
     ]
    }
   ],
   "source": [
    "for i in range(1, 11):\n",
    "    print(i)"
   ]
  },
  {
   "cell_type": "code",
   "execution_count": 8,
   "id": "0514d08e-7afa-428a-99fa-ae3a68f85b55",
   "metadata": {},
   "outputs": [
    {
     "name": "stdout",
     "output_type": "stream",
     "text": [
      "1\n",
      "2\n",
      "3\n",
      "4\n",
      "5\n",
      "6\n",
      "7\n",
      "8\n",
      "9\n",
      "10\n"
     ]
    }
   ],
   "source": [
    "i = 1\n",
    "while i <= 10:\n",
    "    print(i)\n",
    "    i = i + 1"
   ]
  },
  {
   "cell_type": "markdown",
   "id": "bd469e39-787b-4252-a891-e2d64f087170",
   "metadata": {},
   "source": [
    "***Q13. If you had a function named bacon() inside a module named spam, how would you call it after\n",
    "importing spam?***\n",
    "Ans. -> This function can be called with spam.bacon()."
   ]
  }
 ],
 "metadata": {
  "kernelspec": {
   "display_name": "Python 3 (ipykernel)",
   "language": "python",
   "name": "python3"
  },
  "language_info": {
   "codemirror_mode": {
    "name": "ipython",
    "version": 3
   },
   "file_extension": ".py",
   "mimetype": "text/x-python",
   "name": "python",
   "nbconvert_exporter": "python",
   "pygments_lexer": "ipython3",
   "version": "3.10.6"
  }
 },
 "nbformat": 4,
 "nbformat_minor": 5
}
