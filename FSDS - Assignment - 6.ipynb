{
 "cells": [
  {
   "cell_type": "markdown",
   "metadata": {},
   "source": [
    "**Q.1. What are keywords in python? Using the keyword library, print all the python keywords.**  \n",
    "Ans -> Keywords in Python are reserved words that can not be used as a variable name, function name, or any other identifier."
   ]
  },
  {
   "cell_type": "code",
   "execution_count": 6,
   "metadata": {},
   "outputs": [
    {
     "name": "stdout",
     "output_type": "stream",
     "text": [
      "The list of keywords is : \n",
      "['False', 'None', 'True', 'and', 'as', 'assert', 'async', 'await', 'break', 'class', 'continue', 'def', 'del', 'elif', 'else', 'except', 'finally', 'for', 'from', 'global', 'if', 'import', 'in', 'is', 'lambda', 'nonlocal', 'not', 'or', 'pass', 'raise', 'return', 'try', 'while', 'with', 'yield']\n"
     ]
    }
   ],
   "source": [
    "import keyword\n",
    "print(\"The list of keywords is : \")\n",
    "print(keyword.kwlist)"
   ]
  },
  {
   "cell_type": "markdown",
   "metadata": {},
   "source": [
    "**Q.2. What are the rules to create variables in python?**  \n",
    "Ans -> 1. A variable name must start with a letter or the underscore character.\n",
    "         2. A variable name cannot start with a number.\n",
    "         3. A variable name can only contain alpha-numeric characters and underscores (A-z, 0-9, and _ ).\n",
    "         4. Variable names are case-sensitive (age, Age and AGE are three different variables)."
   ]
  },
  {
   "cell_type": "markdown",
   "metadata": {},
   "source": [
    "**Q.3. What are the standards and conventions followed for the nomenclature of variables in python to improve code readability and maintainability?**  \n",
    "Ans -> 1. Variable names should be short yet meaningful.  \n",
    "         2. Use of underscore for multiple words.  \n",
    "         3. Variable names should not be python keywords.  \n",
    "         4. Variable names should not be similar to built-in functions.  \n",
    "         5. Variable names should not be similar to other variables.  \n",
    "         6. Variable names should not be similar to class names.  \n",
    "         7. Variable names should not be similar to module names.  \n",
    "         8. Variable names should not be similar to package names.  \n",
    "         9. Variable names should not be similar to standard library names.  \n",
    "         10. Variable names should not be similar to third party library names.  \n",
    "         11. Variable names should not be similar to local variable names.  \n",
    "         12. Variable names should not be similar to global variable names.  \n",
    "         13. Variable names should not be similar to instance variable names.  \n",
    "         14. Variable names should not be similar to class variable names.  \n",
    "         15. Variable names should not be similar to function names.  \n",
    "         16. Variable names should not be similar to method names.  \n",
    "         17. Variable names should not be similar to exception names.  \n",
    "         18. Variable names should not be similar to constant names.  \n",
    "         19. Variable names should not be similar to attribute names.  \n",
    "         20. Variable names should not be similar to argument names.  \n",
    "         21. Variable names should not be similar to parameter names.  \n",
    "         22. Variable names should not be similar to module level constant names.  \n",
    "         23. Variable names should not be similar to module level attribute names.  \n",
    "         24. Variable names should not be similar to module level function names.  \n",
    "         25. Variable names should not be similar to module level class names.  \n",
    "         26. Variable names should not be similar to module level method names.  \n",
    "         27. Variable names should not be similar to module level exception names.  \n",
    "         28. Variable names should not be similar to module level variable names.  \n",
    "         29. Variable names should not be similar to module level argument names.  \n",
    "         30. Variable names should not be similar to module level parameter names.  \n",
    "         31. Variable names should not be similar to module level local variable names.  \n",
    "         32. Variable names should not be similar to module level global variable names."
   ]
  },
  {
   "cell_type": "markdown",
   "metadata": {},
   "source": [
    "**Q.4. What will happen if a keyword is used as a variable name?**  \n",
    "Ans -> If a keyword is used as a variable name, then it will throw an error."
   ]
  },
  {
   "cell_type": "markdown",
   "metadata": {},
   "source": [
    "**Q.5. For what purpose def keyword is used?**  \n",
    "Ans -> The def keyword is used to define a function."
   ]
  },
  {
   "cell_type": "markdown",
   "metadata": {},
   "source": [
    "**Q.6. What is the operation of this special character ‘\\’?**  \n",
    "Ans -> The backslash (\\) character is used to escape characters that otherwise have a special meaning, such as newline, backslash itself, or the quote character."
   ]
  },
  {
   "cell_type": "markdown",
   "metadata": {},
   "source": [
    "**Q.7. Give an example of the following conditions:**  \n",
    "(i) Homogeneous list  \n",
    "(ii) Heterogeneous set  \n",
    "(iii) Homogeneous tuple  \n",
    "Ans -> (i) Homogeneous list: [1, 2, 3, 4, 5]  \n",
    "       (ii) Heterogeneous set: {1, 2, 3, 4, 5, 'a', 'b', 'c'}  \n",
    "       (iii) Homogeneous tuple: (1, 2, 3, 4, 5)"
   ]
  },
  {
   "cell_type": "markdown",
   "metadata": {},
   "source": [
    "**Q.8. Explain the mutable and immutable data types with proper explanation & examples.**  \n",
    "Ans -> Mutable data types are those data types whose values can be changed after they are created.  \n",
    "       Immutable data types are those data types whose values can not be changed after they are created.  \n",
    "       Examples of mutable data types: list, set, dictionary.  \n",
    "       Examples of immutable data types: int, float, complex, bool, string, tuple, range, frozenset, bytes, bytearray."
   ]
  },
  {
   "cell_type": "markdown",
   "metadata": {},
   "source": [
    "**Q.9. Write a code to create the given structure using only for loop.**  \n",
    "    *  \n",
    "   ***  \n",
    "  *****  \n",
    " *******   \n",
    "*********"
   ]
  },
  {
   "cell_type": "code",
   "execution_count": 7,
   "metadata": {},
   "outputs": [
    {
     "name": "stdout",
     "output_type": "stream",
     "text": [
      "    * \n",
      "   * * \n",
      "  * * * \n",
      " * * * * \n",
      "* * * * * \n"
     ]
    }
   ],
   "source": [
    "def triangle(n):\n",
    "\tk = n - 1\n",
    "\tfor i in range(0, n):\n",
    "\t\tfor j in range(0, k):\n",
    "\t\t\tprint(end=\" \")\n",
    "\t\tk = k - 1\n",
    "\t\tfor j in range(0, i+1):\n",
    "\t\t\tprint(\"* \", end=\"\")\n",
    "\t\tprint(\"\\r\")\n",
    "n = 5\n",
    "triangle(n)\n"
   ]
  },
  {
   "cell_type": "markdown",
   "metadata": {},
   "source": [
    "**Q.10. Write a code to create the given structure using while loop.**  \n",
    "\n",
    "|||||||||  \n",
    " |||||||  \n",
    "  |||||     \n",
    "   |||     \n",
    "    |"
   ]
  },
  {
   "cell_type": "code",
   "execution_count": 8,
   "metadata": {},
   "outputs": [
    {
     "name": "stdout",
     "output_type": "stream",
     "text": [
      "| | | | | | | | | \n",
      "  | | | | | | | \n",
      "    | | | | | \n",
      "      | | | \n",
      "        | \n"
     ]
    }
   ],
   "source": [
    "def reverse_pyramid(rows):\n",
    "    i = rows\n",
    "    while i >= 1:\n",
    "        j = rows\n",
    "        while j > i:\n",
    "            print(\" \", end=' ')\n",
    "            j -= 1\n",
    "        k = 1\n",
    "        while k <= 2 * i - 1:\n",
    "            print(\"|\", end=' ')\n",
    "            k += 1\n",
    "        print()\n",
    "        i -= 1\n",
    "reverse_pyramid(5)"
   ]
  },
  {
   "cell_type": "markdown",
   "metadata": {},
   "source": []
  }
 ],
 "metadata": {
  "kernelspec": {
   "display_name": "base",
   "language": "python",
   "name": "python3"
  },
  "language_info": {
   "codemirror_mode": {
    "name": "ipython",
    "version": 3
   },
   "file_extension": ".py",
   "mimetype": "text/x-python",
   "name": "python",
   "nbconvert_exporter": "python",
   "pygments_lexer": "ipython3",
   "version": "3.11.4"
  }
 },
 "nbformat": 4,
 "nbformat_minor": 2
}
